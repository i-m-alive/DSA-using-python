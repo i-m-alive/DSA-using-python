{
 "cells": [
  {
   "cell_type": "code",
   "execution_count": 38,
   "id": "bc2fbd75-2cdb-454d-aea2-709ac597a052",
   "metadata": {},
   "outputs": [],
   "source": [
    "from SinglyLL import *"
   ]
  },
  {
   "cell_type": "code",
   "execution_count": 39,
   "id": "7f32fcba-88ce-439a-8f4c-3a98969fc30b",
   "metadata": {},
   "outputs": [],
   "source": [
    "class Stack:\n",
    "    def __init__(self):\n",
    "        self.mylist=SLL()\n",
    "        self.count=0\n",
    "    def is_empty(self):\n",
    "        if self.mylist.is_empty():\n",
    "            raise \n",
    "    def push(self,data):\n",
    "        self.mylist.insert_at_start(data)\n",
    "        self.count+=1\n",
    "    def pop(self):\n",
    "        if not self.mylist.is_empty():\n",
    "            self.mylist.delete_first()\n",
    "            self.count -=1\n",
    "        else:\n",
    "            raise IndexError(\"Stack Under Flow\")\n",
    "    def peek(self):\n",
    "        if not self.mylist.is_empty():\n",
    "            return self.mylist.start.item\n",
    "        else:\n",
    "            raise IndexError(\"Stack Under Flow\")\n",
    "    def size(self):\n",
    "        return self.item_count\n",
    "        "
   ]
  },
  {
   "cell_type": "code",
   "execution_count": 40,
   "id": "d21bc2d9-e674-4d4c-9925-2ab9ed1dc6eb",
   "metadata": {},
   "outputs": [],
   "source": [
    "s=Stack()"
   ]
  },
  {
   "cell_type": "code",
   "execution_count": 41,
   "id": "b11d22c8-87b9-46e7-83f0-bb5990266152",
   "metadata": {},
   "outputs": [],
   "source": [
    "s.push(20)"
   ]
  },
  {
   "cell_type": "code",
   "execution_count": 42,
   "id": "b019e1f9-5cd2-420b-b3b1-130342756df4",
   "metadata": {},
   "outputs": [
    {
     "data": {
      "text/plain": [
       "20"
      ]
     },
     "execution_count": 42,
     "metadata": {},
     "output_type": "execute_result"
    }
   ],
   "source": [
    "s.peek()"
   ]
  },
  {
   "cell_type": "code",
   "execution_count": 43,
   "id": "b3e28192-394f-4049-aa85-01209c0dc2b1",
   "metadata": {},
   "outputs": [],
   "source": [
    "s.pop()"
   ]
  },
  {
   "cell_type": "code",
   "execution_count": 44,
   "id": "a0202d7f-7bb6-477e-a5ea-b55c874b506f",
   "metadata": {},
   "outputs": [
    {
     "ename": "IndexError",
     "evalue": "Stack Under Flow",
     "output_type": "error",
     "traceback": [
      "\u001b[1;31m---------------------------------------------------------------------------\u001b[0m",
      "\u001b[1;31mIndexError\u001b[0m                                Traceback (most recent call last)",
      "Cell \u001b[1;32mIn[44], line 1\u001b[0m\n\u001b[1;32m----> 1\u001b[0m s\u001b[38;5;241m.\u001b[39mpop()\n",
      "Cell \u001b[1;32mIn[39], line 16\u001b[0m, in \u001b[0;36mStack.pop\u001b[1;34m(self)\u001b[0m\n\u001b[0;32m     14\u001b[0m     \u001b[38;5;28mself\u001b[39m\u001b[38;5;241m.\u001b[39mcount \u001b[38;5;241m-\u001b[39m\u001b[38;5;241m=\u001b[39m\u001b[38;5;241m1\u001b[39m\n\u001b[0;32m     15\u001b[0m \u001b[38;5;28;01melse\u001b[39;00m:\n\u001b[1;32m---> 16\u001b[0m     \u001b[38;5;28;01mraise\u001b[39;00m \u001b[38;5;167;01mIndexError\u001b[39;00m(\u001b[38;5;124m\"\u001b[39m\u001b[38;5;124mStack Under Flow\u001b[39m\u001b[38;5;124m\"\u001b[39m)\n",
      "\u001b[1;31mIndexError\u001b[0m: Stack Under Flow"
     ]
    }
   ],
   "source": [
    "s.pop()"
   ]
  },
  {
   "cell_type": "code",
   "execution_count": null,
   "id": "c84d09fe-62f6-46fa-b45d-62c7d98f2e73",
   "metadata": {},
   "outputs": [],
   "source": []
  }
 ],
 "metadata": {
  "kernelspec": {
   "display_name": "Python 3 (ipykernel)",
   "language": "python",
   "name": "python3"
  },
  "language_info": {
   "codemirror_mode": {
    "name": "ipython",
    "version": 3
   },
   "file_extension": ".py",
   "mimetype": "text/x-python",
   "name": "python",
   "nbconvert_exporter": "python",
   "pygments_lexer": "ipython3",
   "version": "3.11.7"
  }
 },
 "nbformat": 4,
 "nbformat_minor": 5
}
