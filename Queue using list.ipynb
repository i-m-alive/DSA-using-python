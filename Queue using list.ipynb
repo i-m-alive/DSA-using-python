{
 "cells": [
  {
   "cell_type": "markdown",
   "id": "a34560ee-4301-4fce-91da-aec638156660",
   "metadata": {},
   "source": [
    "## Queue"
   ]
  },
  {
   "cell_type": "code",
   "execution_count": 2,
   "id": "ccf8919e-93ec-4e78-b2bc-2c5fa86e02d2",
   "metadata": {},
   "outputs": [],
   "source": [
    "class Queue:\n",
    "    def __init__(self):\n",
    "        self.queue=[]\n",
    "    def is_empty(self):\n",
    "        return len(self.queue)==0\n",
    "    def enqueue(self,data):\n",
    "        self.queue.append(data)\n",
    "    def dequeue(self):\n",
    "        self.queue.pop(0)\n",
    "    def get_rear(self):\n",
    "        if not self.is_empty():\n",
    "            return self.queue[-1]\n",
    "        else:\n",
    "            raise IndexError(\"Queue is empty\")\n",
    "    def get_front(self):\n",
    "        if not self.is_empty():\n",
    "            return self.queue[0]\n",
    "        else:\n",
    "            raise IndexError(\"Queue is empty\")\n",
    "    def size(self):\n",
    "        return len(self.queue)"
   ]
  },
  {
   "cell_type": "code",
   "execution_count": 3,
   "id": "aadd75a2-0653-446e-847e-cab43987b704",
   "metadata": {},
   "outputs": [
    {
     "name": "stdout",
     "output_type": "stream",
     "text": [
      "Queue is empty\n"
     ]
    }
   ],
   "source": [
    "\n",
    "l=Queue()\n",
    "try:\n",
    "    print(l.get_front())\n",
    "except IndexError as e:\n",
    "    print(e.args[0])"
   ]
  },
  {
   "cell_type": "code",
   "execution_count": 4,
   "id": "dffb5637-7ff5-4664-a2d8-7312a3653287",
   "metadata": {},
   "outputs": [],
   "source": [
    "l.enqueue(20)\n",
    "l.enqueue(22)\n",
    "l.enqueue(23)\n",
    "l.enqueue(24)\n",
    "l.enqueue(17)"
   ]
  },
  {
   "cell_type": "code",
   "execution_count": 12,
   "id": "f22488cf-e56a-48ee-beb2-3681d1a7bb8b",
   "metadata": {},
   "outputs": [
    {
     "name": "stdout",
     "output_type": "stream",
     "text": [
      "Front= 20 Rear= 17\n"
     ]
    }
   ],
   "source": [
    "print(\"Front=\",l.get_front(),\"Rear=\",l.get_rear())"
   ]
  },
  {
   "cell_type": "code",
   "execution_count": 14,
   "id": "6dfa2195-3e25-4945-bca3-356794c54141",
   "metadata": {},
   "outputs": [],
   "source": [
    "l.dequeue()"
   ]
  },
  {
   "cell_type": "code",
   "execution_count": null,
   "id": "d4e4e043-0a66-45c1-9d10-2fa3c7dc5b67",
   "metadata": {},
   "outputs": [],
   "source": []
  }
 ],
 "metadata": {
  "kernelspec": {
   "display_name": "Python 3 (ipykernel)",
   "language": "python",
   "name": "python3"
  },
  "language_info": {
   "codemirror_mode": {
    "name": "ipython",
    "version": 3
   },
   "file_extension": ".py",
   "mimetype": "text/x-python",
   "name": "python",
   "nbconvert_exporter": "python",
   "pygments_lexer": "ipython3",
   "version": "3.11.7"
  }
 },
 "nbformat": 4,
 "nbformat_minor": 5
}
