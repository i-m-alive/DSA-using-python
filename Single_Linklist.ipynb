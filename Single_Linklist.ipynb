{
 "cells": [
  {
   "cell_type": "code",
   "execution_count": 1,
   "metadata": {
    "id": "ouRwEeYdoyNJ"
   },
   "outputs": [],
   "source": [
    "class Node:\n",
    "  def __init__(self, item= None,next= None):\n",
    "    self.item=item\n",
    "    self.next=next"
   ]
  },
  {
   "cell_type": "code",
   "execution_count": 2,
   "metadata": {
    "id": "sNaC775GsHp_"
   },
   "outputs": [],
   "source": [
    "class SLL:\n",
    "  def __init__(self, start=None):\n",
    "    self.start=start\n",
    "  def is_empty(self):\n",
    "    return self.start==None\n",
    "  def insert_at_start(self,data):\n",
    "    n= Node(data,self.start)\n",
    "    self.start=n\n",
    "  def insert_at_last(self,data):\n",
    "    n=Node(data)\n",
    "    if not self.is_empty():\n",
    "      temp=self.start\n",
    "      while temp.next is not None:\n",
    "        temp=temp.next\n",
    "      temp.next=n\n",
    "    else:\n",
    "      self.start=n\n",
    "  def search(self,data):\n",
    "    temp=self.start\n",
    "    while temp is not None:\n",
    "      if temp.item==data:\n",
    "        return temp\n",
    "      temp=temp.next\n",
    "    return None\n",
    "  def insert_after(self,temp,data):\n",
    "    if temp is not None:\n",
    "      n=Node(data,temp.next)\n",
    "      temp.next=n\n",
    "  def print_list(self):\n",
    "    temp=self.start\n",
    "    while temp is not None:\n",
    "      print(temp.item,end= ' ')\n",
    "      temp=temp.next\n",
    "  def delete_first(self):\n",
    "    if self.start is not None:\n",
    "      self.start=self.start.next\n",
    "  def delete_last(self):\n",
    "    if self.start is None:\n",
    "      pass\n",
    "    elif self.start.next is None:\n",
    "      self.start=None\n",
    "    else :\n",
    "      temp=self.start\n",
    "      while temp.next.next is not None:\n",
    "        temp=temp.next\n",
    "      temp.next=None\n",
    "  def delete_item(self,data):\n",
    "    if self.start is None:\n",
    "      pass\n",
    "    elif self.start.next is None:\n",
    "      if self.start.item==data:\n",
    "        self.start=None\n",
    "    else:\n",
    "      temp=self.start\n",
    "      if temp.item==data:\n",
    "        self.start=temp.next\n",
    "      else:\n",
    "        while temp.next is not None:\n",
    "          if temp.next.item==data:\n",
    "            temp.next=temp.next.next\n",
    "            break\n",
    "          temp=temp.next\n",
    "  def __iter__(self):\n",
    "    return SLLIterator(self.start)\n",
    "\n",
    "class SLLIterator:\n",
    "  def __init__(self,start):\n",
    "    self.current=start\n",
    "  def __iter__(self):\n",
    "    return self\n",
    "  def __next__(self):\n",
    "    if not self.current:\n",
    "      raise StopIteration\n",
    "    data=self.current.item\n",
    "    self.current=self.current.next\n",
    "    return data\n",
    "\n",
    "\n"
   ]
  },
  {
   "cell_type": "code",
   "execution_count": 3,
   "metadata": {
    "colab": {
     "base_uri": "https://localhost:8080/"
    },
    "id": "CZA9MZeyskeP",
    "outputId": "c2efbb55-0af7-4b75-c0c6-c70eb9893f52"
   },
   "outputs": [
    {
     "name": "stdout",
     "output_type": "stream",
     "text": [
      "25 10 25 20 "
     ]
    }
   ],
   "source": [
    "mylist= SLL()\n",
    "mylist.insert_at_start(10)\n",
    "mylist.insert_at_start(25)\n",
    "mylist.insert_at_last(20)\n",
    "mylist.insert_after(mylist.search(10),25)\n",
    "mylist.print_list()"
   ]
  },
  {
   "cell_type": "code",
   "execution_count": 4,
   "metadata": {
    "id": "E2ejYvc8-01P"
   },
   "outputs": [],
   "source": [
    "mylist.delete_item(10)"
   ]
  },
  {
   "cell_type": "code",
   "execution_count": 5,
   "metadata": {
    "colab": {
     "base_uri": "https://localhost:8080/"
    },
    "id": "lkTFufWoF5cz",
    "outputId": "22ad2c46-b88e-402a-cefa-db04c7281b14"
   },
   "outputs": [
    {
     "name": "stdout",
     "output_type": "stream",
     "text": [
      "25 25 20 "
     ]
    }
   ],
   "source": [
    "for x in mylist:\n",
    "  print(x,end=' ')"
   ]
  },
  {
   "cell_type": "code",
   "execution_count": null,
   "metadata": {
    "id": "SSEzvPU2Lx0O"
   },
   "outputs": [],
   "source": []
  }
 ],
 "metadata": {
  "colab": {
   "provenance": []
  },
  "kernelspec": {
   "display_name": "Python 3 (ipykernel)",
   "language": "python",
   "name": "python3"
  },
  "language_info": {
   "codemirror_mode": {
    "name": "ipython",
    "version": 3
   },
   "file_extension": ".py",
   "mimetype": "text/x-python",
   "name": "python",
   "nbconvert_exporter": "python",
   "pygments_lexer": "ipython3",
   "version": "3.11.7"
  }
 },
 "nbformat": 4,
 "nbformat_minor": 4
}
