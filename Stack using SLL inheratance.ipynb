{
 "cells": [
  {
   "cell_type": "code",
   "execution_count": 1,
   "id": "057d2b25-a40c-4512-bcf4-8cd45fcd7104",
   "metadata": {},
   "outputs": [],
   "source": [
    "from SinglyLL import *"
   ]
  },
  {
   "cell_type": "code",
   "execution_count": 2,
   "id": "dc1967e0-b576-45a2-862b-7eaee2b0e46c",
   "metadata": {},
   "outputs": [],
   "source": [
    "class Stack:\n",
    "    def __init__(self):\n",
    "        self.mylist = SLL()  # Create an instance of the singly linked list\n",
    "        self.count = 0\n",
    "\n",
    "    def is_empty(self):\n",
    "        return self.mylist.is_empty()\n",
    "\n",
    "    def push(self, data):\n",
    "        self.mylist.insert_at_start(data)\n",
    "        self.count += 1\n",
    "\n",
    "    def pop(self):\n",
    "        if not self.is_empty():\n",
    "            self.mylist.delete_first()\n",
    "            self.count -= 1\n",
    "        else:\n",
    "            raise IndexError(\"Stack Underflow\")\n",
    "\n",
    "    def peek(self):\n",
    "        if not self.is_empty():\n",
    "            return self.mylist.start.item\n",
    "        else:\n",
    "            raise IndexError(\"Stack Underflow\")\n",
    "\n",
    "    def size(self):\n",
    "        return self.count"
   ]
  },
  {
   "cell_type": "code",
   "execution_count": 3,
   "id": "20692c20-d10f-4739-9790-fb96f1d2ff33",
   "metadata": {},
   "outputs": [
    {
     "ename": "IndexError",
     "evalue": "Stack Underflow",
     "output_type": "error",
     "traceback": [
      "\u001b[1;31m---------------------------------------------------------------------------\u001b[0m",
      "\u001b[1;31mIndexError\u001b[0m                                Traceback (most recent call last)",
      "Cell \u001b[1;32mIn[3], line 2\u001b[0m\n\u001b[0;32m      1\u001b[0m s\u001b[38;5;241m=\u001b[39mStack()\n\u001b[1;32m----> 2\u001b[0m s\u001b[38;5;241m.\u001b[39mpop()\n",
      "Cell \u001b[1;32mIn[2], line 18\u001b[0m, in \u001b[0;36mStack.pop\u001b[1;34m(self)\u001b[0m\n\u001b[0;32m     16\u001b[0m     \u001b[38;5;28mself\u001b[39m\u001b[38;5;241m.\u001b[39mcount \u001b[38;5;241m-\u001b[39m\u001b[38;5;241m=\u001b[39m \u001b[38;5;241m1\u001b[39m\n\u001b[0;32m     17\u001b[0m \u001b[38;5;28;01melse\u001b[39;00m:\n\u001b[1;32m---> 18\u001b[0m     \u001b[38;5;28;01mraise\u001b[39;00m \u001b[38;5;167;01mIndexError\u001b[39;00m(\u001b[38;5;124m\"\u001b[39m\u001b[38;5;124mStack Underflow\u001b[39m\u001b[38;5;124m\"\u001b[39m)\n",
      "\u001b[1;31mIndexError\u001b[0m: Stack Underflow"
     ]
    }
   ],
   "source": [
    "s=Stack()\n",
    "s.pop()"
   ]
  },
  {
   "cell_type": "code",
   "execution_count": 4,
   "id": "b15842e9-f1d7-4154-b1a4-6aa16187562e",
   "metadata": {},
   "outputs": [],
   "source": [
    "s.push(10)\n"
   ]
  },
  {
   "cell_type": "code",
   "execution_count": 5,
   "id": "448196c5-33e7-4a6b-999a-694f0cb450a2",
   "metadata": {},
   "outputs": [],
   "source": [
    "s.push(10)\n"
   ]
  },
  {
   "cell_type": "code",
   "execution_count": 6,
   "id": "afe9c059-6c7b-48f5-a10e-0c1f51d83897",
   "metadata": {},
   "outputs": [
    {
     "data": {
      "text/plain": [
       "10"
      ]
     },
     "execution_count": 6,
     "metadata": {},
     "output_type": "execute_result"
    }
   ],
   "source": [
    "s.peek()"
   ]
  },
  {
   "cell_type": "code",
   "execution_count": 7,
   "id": "4b180e26-4f3d-445f-9a49-2c0b93d79b4f",
   "metadata": {},
   "outputs": [
    {
     "data": {
      "text/plain": [
       "2"
      ]
     },
     "execution_count": 7,
     "metadata": {},
     "output_type": "execute_result"
    }
   ],
   "source": [
    "s.size()"
   ]
  },
  {
   "cell_type": "code",
   "execution_count": null,
   "id": "3f3927e1-5f76-4639-95b1-e5f1583c91d2",
   "metadata": {},
   "outputs": [],
   "source": []
  }
 ],
 "metadata": {
  "kernelspec": {
   "display_name": "Python 3 (ipykernel)",
   "language": "python",
   "name": "python3"
  },
  "language_info": {
   "codemirror_mode": {
    "name": "ipython",
    "version": 3
   },
   "file_extension": ".py",
   "mimetype": "text/x-python",
   "name": "python",
   "nbconvert_exporter": "python",
   "pygments_lexer": "ipython3",
   "version": "3.11.7"
  }
 },
 "nbformat": 4,
 "nbformat_minor": 5
}
