{
 "cells": [
  {
   "cell_type": "markdown",
   "id": "7666035c-3d5f-4964-ad8f-61d7db3ef914",
   "metadata": {},
   "source": [
    "## Circular LinkedList"
   ]
  },
  {
   "cell_type": "code",
   "execution_count": 34,
   "id": "f44f37d5-a188-4f29-ba0a-d794b97838f0",
   "metadata": {},
   "outputs": [],
   "source": [
    "class Node:\n",
    "    def __init__(self, item=None, next=None):\n",
    "        self.item = item\n",
    "        self.next = next\n",
    "\n",
    "class CLL:\n",
    "    def __init__(self, last=None):\n",
    "        self.last = last\n",
    "\n",
    "    def is_empty(self):\n",
    "        return self.last is None\n",
    "\n",
    "    def insert_at_start(self, data):\n",
    "        n = Node(data)\n",
    "        if self.is_empty():\n",
    "            n.next = n\n",
    "            self.last = n\n",
    "        else:\n",
    "            n.next = self.last.next\n",
    "            self.last.next = n\n",
    "\n",
    "    def insert_at_last(self, data):\n",
    "        n = Node(data)\n",
    "        if self.is_empty():\n",
    "            n.next = n\n",
    "            self.last = n\n",
    "        else:\n",
    "            n.next = self.last.next\n",
    "            self.last.next = n\n",
    "            self.last = n\n",
    "\n",
    "    def search(self, data):\n",
    "        if self.is_empty():\n",
    "            return None\n",
    "        temp = self.last.next\n",
    "        while temp is not self.last:\n",
    "            if temp.item == data:\n",
    "                return temp\n",
    "            temp = temp.next\n",
    "        if temp.item == data:\n",
    "            return temp\n",
    "        return None\n",
    "\n",
    "    def insert_after(self, temp_data, data):\n",
    "        temp = self.search(temp_data)\n",
    "        if temp is not None:\n",
    "            n = Node(data, temp.next)\n",
    "            temp.next = n\n",
    "            if temp == self.last:\n",
    "                self.last = n\n",
    "        else:\n",
    "            print(\"Data couldn't be entered because the location couldn't be found\")\n",
    "\n",
    "    def print_list(self):\n",
    "        if not self.is_empty():\n",
    "            temp = self.last.next\n",
    "            while temp is not self.last:\n",
    "                print(temp.item, end=\" \")\n",
    "                temp = temp.next\n",
    "            print(temp.item)\n",
    "\n",
    "    def delete_at_first(self):\n",
    "        if not self.is_empty():\n",
    "            if self.last.next == self.last:\n",
    "                self.last = None\n",
    "            else:\n",
    "                self.last.next = self.last.next.next\n",
    "        else:\n",
    "            print(\"List is already empty\")\n",
    "\n",
    "    def delete_at_end(self):\n",
    "        if not self.is_empty():\n",
    "            if self.last.next == self.last:\n",
    "                self.last = None\n",
    "                print(\"List is empty\")\n",
    "            else:\n",
    "                temp = self.last.next\n",
    "                while temp.next != self.last:\n",
    "                    temp = temp.next\n",
    "                temp.next = self.last.next\n",
    "                self.last = temp\n",
    "        else:\n",
    "            print(\"List is already empty\")\n",
    "\n",
    "    def delete_item(self, data):\n",
    "        if not self.is_empty():\n",
    "            if self.last.next == self.last:\n",
    "                if self.last.item == data:\n",
    "                    self.last = None\n",
    "            else:\n",
    "                temp = self.last.next\n",
    "                while temp != self.last:\n",
    "                    if temp.next.item == data:\n",
    "                        temp.next = temp.next.next\n",
    "                        if temp.next == self.last.next:\n",
    "                            self.last = temp\n",
    "                        return\n",
    "                    temp = temp.next\n",
    "                if temp.next.item == data:\n",
    "                    self.last = temp\n",
    "                    self.last.next = self.last.next.next\n",
    "\n",
    "    def __iter__(self):\n",
    "        if self.last is None:\n",
    "            return CLLIterator(None)\n",
    "        else:\n",
    "            return CLLIterator(self.last.next)\n",
    "\n",
    "\n"
   ]
  },
  {
   "cell_type": "code",
   "execution_count": 54,
   "id": "571fff98-b161-42ac-95de-5eeffc57f313",
   "metadata": {},
   "outputs": [],
   "source": [
    "class CLLIterator:\n",
    "    def __init__(self, start):\n",
    "        self.current = start\n",
    "        self.start = start\n",
    "        self.count=0\n",
    "    def __iter__(self):\n",
    "        return self\n",
    "\n",
    "    def __next__(self):\n",
    "        if self.current ==None:\n",
    "            raise StopIteration\n",
    "        if self.current == self.start and self.count==1:\n",
    "            raise StopIteration\n",
    "        else:\n",
    "            self.count=1\n",
    "        data = self.current.item\n",
    "        self.current = self.current.next\n",
    "        return data\n"
   ]
  },
  {
   "cell_type": "code",
   "execution_count": 56,
   "id": "e212a67c-fc5b-45b4-80b9-f5185e9910b2",
   "metadata": {},
   "outputs": [],
   "source": [
    "mylist= CLL()\n",
    "mylist.insert_at_start(20)\n",
    "mylist.insert_at_start(10)\n",
    "mylist.insert_at_last(30)\n",
    "mylist.insert_after(10,15)\n"
   ]
  },
  {
   "cell_type": "code",
   "execution_count": 57,
   "id": "66249328-a8e0-42fa-afe4-52812cd95e85",
   "metadata": {},
   "outputs": [
    {
     "name": "stdout",
     "output_type": "stream",
     "text": [
      "10 15 20 30\n"
     ]
    }
   ],
   "source": [
    "mylist.print_list()"
   ]
  },
  {
   "cell_type": "code",
   "execution_count": 58,
   "id": "d4242151-046e-4253-9e1b-90fdade1aa9f",
   "metadata": {},
   "outputs": [],
   "source": [
    "mylist.delete_item(20)"
   ]
  },
  {
   "cell_type": "code",
   "execution_count": 59,
   "id": "f23a5cd6-8f3c-4c6a-861d-f9ab3e249d98",
   "metadata": {},
   "outputs": [
    {
     "name": "stdout",
     "output_type": "stream",
     "text": [
      "10 15 30 \n",
      "10 15 30\n"
     ]
    }
   ],
   "source": [
    "for x in mylist:\n",
    "    print(x, end=\" \")\n",
    "    \n",
    "print()\n",
    "\n",
    "mylist.print_list()"
   ]
  },
  {
   "cell_type": "code",
   "execution_count": 48,
   "id": "801751e9-cf23-4188-8517-65f0842c6785",
   "metadata": {},
   "outputs": [
    {
     "name": "stdout",
     "output_type": "stream",
     "text": [
      "\n"
     ]
    }
   ],
   "source": []
  },
  {
   "cell_type": "code",
   "execution_count": null,
   "id": "7a80df3d-09e4-4413-8cf9-5d3258c9af63",
   "metadata": {},
   "outputs": [],
   "source": []
  }
 ],
 "metadata": {
  "kernelspec": {
   "display_name": "Python 3 (ipykernel)",
   "language": "python",
   "name": "python3"
  },
  "language_info": {
   "codemirror_mode": {
    "name": "ipython",
    "version": 3
   },
   "file_extension": ".py",
   "mimetype": "text/x-python",
   "name": "python",
   "nbconvert_exporter": "python",
   "pygments_lexer": "ipython3",
   "version": "3.11.7"
  }
 },
 "nbformat": 4,
 "nbformat_minor": 5
}
