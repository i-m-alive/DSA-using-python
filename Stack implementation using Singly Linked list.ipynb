{
 "cells": [
  {
   "cell_type": "code",
   "execution_count": 9,
   "id": "bea6fb6e-7b36-4b48-8bd7-bdb290113dd1",
   "metadata": {},
   "outputs": [],
   "source": [
    "class Node:\n",
    "    def __init__(self,item=None,next=None):\n",
    "        self.item=item\n",
    "        self.next=next\n",
    "class Stack:\n",
    "    def __init__(self):\n",
    "        self.start=None\n",
    "        self.item_count=0\n",
    "    def is_empty(self):\n",
    "        return self.item_count==0\n",
    "    def push(self,data):\n",
    "        n=Node(data,self.start)\n",
    "        self.start=n\n",
    "        self.item_count+=1\n",
    "        print(data,\"is pushed\")\n",
    "    def pop(self):\n",
    "        if not self.is_empty():\n",
    "            data=self.start.item\n",
    "            self.start=self.start.next\n",
    "            self.item_count-=1\n",
    "            print(data,\"is poped\")\n",
    "        else:\n",
    "            raise IndexError(\"Stack is Empty\")\n",
    "    def peek(self):\n",
    "        if not self.is_empty():\n",
    "            return self.start.item\n",
    "        else:\n",
    "            raise IndexError(\"Stack is Empty\")\n",
    "    def size(self):\n",
    "        return self.item_count"
   ]
  },
  {
   "cell_type": "code",
   "execution_count": 10,
   "id": "09756b05-0d1e-4bee-8665-5e4d268de3cb",
   "metadata": {},
   "outputs": [],
   "source": [
    "s=Stack()\n"
   ]
  },
  {
   "cell_type": "code",
   "execution_count": 11,
   "id": "e9cbc8f8-0780-47a2-8244-820a3adfb309",
   "metadata": {},
   "outputs": [
    {
     "name": "stdout",
     "output_type": "stream",
     "text": [
      "20 is pushed\n"
     ]
    }
   ],
   "source": [
    "s.push(20)\n"
   ]
  },
  {
   "cell_type": "code",
   "execution_count": 12,
   "id": "f09053d8-f406-460d-938b-b51a56f19100",
   "metadata": {},
   "outputs": [
    {
     "name": "stdout",
     "output_type": "stream",
     "text": [
      "22 is pushed\n"
     ]
    }
   ],
   "source": [
    "s.push(22)"
   ]
  },
  {
   "cell_type": "code",
   "execution_count": 13,
   "id": "82177763-d9ad-4bcb-9a63-61ed3188f9dc",
   "metadata": {},
   "outputs": [
    {
     "data": {
      "text/plain": [
       "22"
      ]
     },
     "execution_count": 13,
     "metadata": {},
     "output_type": "execute_result"
    }
   ],
   "source": [
    "s.peek()\n"
   ]
  },
  {
   "cell_type": "code",
   "execution_count": 14,
   "id": "fbd72715-edfd-4314-bc45-d22436a97270",
   "metadata": {},
   "outputs": [
    {
     "name": "stdout",
     "output_type": "stream",
     "text": [
      "22 is poped\n"
     ]
    }
   ],
   "source": [
    "s.pop()"
   ]
  },
  {
   "cell_type": "code",
   "execution_count": 15,
   "id": "9d51c7be-4e2e-4624-a1bd-7af8ba2b4274",
   "metadata": {},
   "outputs": [
    {
     "data": {
      "text/plain": [
       "20"
      ]
     },
     "execution_count": 15,
     "metadata": {},
     "output_type": "execute_result"
    }
   ],
   "source": [
    "s.peek()"
   ]
  },
  {
   "cell_type": "code",
   "execution_count": 16,
   "id": "f7deeeb4-1b19-4abd-9700-0e9282e33d59",
   "metadata": {},
   "outputs": [
    {
     "data": {
      "text/plain": [
       "1"
      ]
     },
     "execution_count": 16,
     "metadata": {},
     "output_type": "execute_result"
    }
   ],
   "source": [
    "s.size()"
   ]
  },
  {
   "cell_type": "code",
   "execution_count": null,
   "id": "48550aa2-aa5b-4c61-a085-37af434714a2",
   "metadata": {},
   "outputs": [],
   "source": []
  }
 ],
 "metadata": {
  "kernelspec": {
   "display_name": "Python 3 (ipykernel)",
   "language": "python",
   "name": "python3"
  },
  "language_info": {
   "codemirror_mode": {
    "name": "ipython",
    "version": 3
   },
   "file_extension": ".py",
   "mimetype": "text/x-python",
   "name": "python",
   "nbconvert_exporter": "python",
   "pygments_lexer": "ipython3",
   "version": "3.11.7"
  }
 },
 "nbformat": 4,
 "nbformat_minor": 5
}
