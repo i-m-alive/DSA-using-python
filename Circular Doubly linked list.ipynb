{
 "cells": [
  {
   "cell_type": "code",
   "execution_count": 305,
   "id": "bce9a1e8-4458-4aaf-adc7-5a8d297379ec",
   "metadata": {},
   "outputs": [],
   "source": [
    "class Node:\n",
    "    def __init__(self, prev=None, item=None, next=None):\n",
    "        self.prev = prev\n",
    "        self.item = item\n",
    "        self.next = next\n",
    "class CDLL:\n",
    "    def __init__(self,start=None):\n",
    "        self.start=start\n",
    "    def is_empty(self):\n",
    "        return self.start==None\n",
    "    def insert_at_start(self,data):\n",
    "        if not self.is_empty():\n",
    "            n=Node(self.start.prev,data,start)\n",
    "            self.start.prev.next=n\n",
    "            self.start.prev=n\n",
    "            self.start=n\n",
    "        else:\n",
    "            n=Node(None,data,None)\n",
    "            n.prev=n\n",
    "            n.next=n\n",
    "            self.start=n\n",
    "    def insert_at_last(self,data):\n",
    "        if not self.is_empty():\n",
    "            n=Node(self.start.prev,data,self.start)\n",
    "            self.start.prev.next=n\n",
    "            self.start.prev=n\n",
    "        else:\n",
    "            n=Node(data)\n",
    "            n.next=n\n",
    "            n.prev=n\n",
    "            self.start=n\n",
    "    def search(self,data):\n",
    "        temp=self.start\n",
    "        if temp is not None:\n",
    "            count=0\n",
    "            if temp.item==data:\n",
    "                return temp\n",
    "            temp=temp.next\n",
    "            while temp != self.start:\n",
    "                if temp.item==data:\n",
    "                    print(temp)\n",
    "                    return temp\n",
    "                temp=temp.next\n",
    "            return  None\n",
    "        else:\n",
    "            print (\"list is empty\")\n",
    "            return None\n",
    "    def insert_after(self,temp_data,data):\n",
    "        temp=self.search(temp_data)\n",
    "        if temp is not None:\n",
    "            n=Node(temp,data,temp.next)\n",
    "            temp.next.prev=n\n",
    "            temp.next=n\n",
    "        else:\n",
    "            print(\"Data not found\")\n",
    "    def print_list(self):\n",
    "        temp=self.start\n",
    "        if temp is not None:\n",
    "            while True :\n",
    "                print(temp.item,end=\" \")\n",
    "                temp=temp.next\n",
    "                if temp ==self.start:\n",
    "                    break\n",
    "        else:\n",
    "            print(\"List is empty\")\n",
    "    def delete_at_start(self):\n",
    "        if self.start==None:\n",
    "            print(\"empty list\")\n",
    "        elif self.start.next==None:\n",
    "            self.start=None\n",
    "        else:\n",
    "            self.start.next.prev=self.start.prev\n",
    "            self.start.prev.next=self.start.next\n",
    "            self.start=self.start.next\n",
    "    def delete_at_end(self):\n",
    "        if self.start==None:\n",
    "            print(\"empty list\")\n",
    "        elif self.start.next==None:\n",
    "            self.start=None\n",
    "        else:\n",
    "            self.start.prev.prev.next=self.start\n",
    "            self.start.prev=self.start.prev.prev\n",
    "    def delete_after(self,data):\n",
    "        if self.start!=None:\n",
    "                temp=self.start\n",
    "                if temp.item==data:\n",
    "                    self.delete_at_start()\n",
    "                else:\n",
    "                    temp=temp.next\n",
    "                    while temp !=self.start:\n",
    "                        if temp.item==data:\n",
    "                            temp.next.prev=temp.prev\n",
    "                            temp.prev.next=temp.next\n",
    "                        temp=temp.next\n",
    "    def __iter__(self):\n",
    "        return CDLLIterator(self.start)\n",
    "\n",
    "class CDLLIterator:\n",
    "    def __init__(self, start):\n",
    "        self.current = start\n",
    "        self.start = start\n",
    "        self.count=0\n",
    "\n",
    "    def __iter__(self):\n",
    "        return self\n",
    "\n",
    "    def __next__(self):\n",
    "        if self.current is None:\n",
    "            raise StopIteration\n",
    "        elif self.current == self.start and self.count==1:\n",
    "            raise StopIteration\n",
    "        else:\n",
    "            data = self.current.item\n",
    "            self.current = self.current.next\n",
    "            self.count=1\n",
    "            return data"
   ]
  },
  {
   "cell_type": "code",
   "execution_count": 306,
   "id": "7ee96b37-d629-4b1d-968f-3cc967490e11",
   "metadata": {},
   "outputs": [],
   "source": [
    "mylist=CDLL()"
   ]
  },
  {
   "cell_type": "code",
   "execution_count": 307,
   "id": "9e1b36e5-47d5-444b-be9b-788a2e1f26f8",
   "metadata": {},
   "outputs": [],
   "source": [
    "mylist.insert_at_start(20)\n"
   ]
  },
  {
   "cell_type": "code",
   "execution_count": 308,
   "id": "512a5cea-14f6-4d99-9c57-aff983a86517",
   "metadata": {},
   "outputs": [],
   "source": [
    "mylist.insert_at_last(30)"
   ]
  },
  {
   "cell_type": "code",
   "execution_count": 309,
   "id": "2718d6e7-dd1b-466c-9488-b7cb4d0ebc3f",
   "metadata": {},
   "outputs": [],
   "source": [
    "mylist.insert_after(20,25)\n"
   ]
  },
  {
   "cell_type": "code",
   "execution_count": 310,
   "id": "d862afc8-118e-4ac6-b55f-7d70c6115641",
   "metadata": {},
   "outputs": [
    {
     "name": "stdout",
     "output_type": "stream",
     "text": [
      "20 25 30 "
     ]
    }
   ],
   "source": [
    "mylist.print_list()"
   ]
  },
  {
   "cell_type": "code",
   "execution_count": 311,
   "id": "b7884c40-c54e-45da-b0fc-4e4586aaf866",
   "metadata": {},
   "outputs": [],
   "source": [
    "mylist.delete_at_start()"
   ]
  },
  {
   "cell_type": "code",
   "execution_count": 312,
   "id": "5d746c1e-871c-429c-9be9-b839fea8a71e",
   "metadata": {},
   "outputs": [
    {
     "name": "stdout",
     "output_type": "stream",
     "text": [
      "25 30 "
     ]
    }
   ],
   "source": [
    "mylist.print_list()"
   ]
  },
  {
   "cell_type": "code",
   "execution_count": 313,
   "id": "6bb8b1ef-37b4-4494-8d1a-34849111e723",
   "metadata": {},
   "outputs": [],
   "source": [
    "mylist.delete_at_end()"
   ]
  },
  {
   "cell_type": "code",
   "execution_count": 314,
   "id": "91a38686-d3e5-43f1-b36d-3beba3bd30a8",
   "metadata": {},
   "outputs": [
    {
     "name": "stdout",
     "output_type": "stream",
     "text": [
      "25 "
     ]
    }
   ],
   "source": [
    "mylist.print_list()"
   ]
  },
  {
   "cell_type": "code",
   "execution_count": 315,
   "id": "12c38f19-adea-457a-8ae3-0d336dacff4e",
   "metadata": {},
   "outputs": [],
   "source": [
    "mylist.delete_after(25)"
   ]
  },
  {
   "cell_type": "code",
   "execution_count": 316,
   "id": "81a969c3-b6f3-4421-b8a1-63d9ccf60216",
   "metadata": {},
   "outputs": [
    {
     "data": {
      "text/plain": [
       "<__main__.Node at 0x1b018ff6c10>"
      ]
     },
     "execution_count": 316,
     "metadata": {},
     "output_type": "execute_result"
    }
   ],
   "source": [
    "mylist.search(25)"
   ]
  },
  {
   "cell_type": "code",
   "execution_count": 317,
   "id": "67b012fa-bae4-445e-ae1d-7f0c7bb22c11",
   "metadata": {},
   "outputs": [],
   "source": [
    "mylist.insert_after(25,30)"
   ]
  },
  {
   "cell_type": "code",
   "execution_count": 318,
   "id": "2ae41ada-a115-4755-bb29-ea8f722269d3",
   "metadata": {},
   "outputs": [
    {
     "name": "stdout",
     "output_type": "stream",
     "text": [
      "25 30 "
     ]
    }
   ],
   "source": [
    "mylist.print_list()"
   ]
  },
  {
   "cell_type": "code",
   "execution_count": 319,
   "id": "811718bf-aa7e-4d6f-a24d-70c2e0d6e41a",
   "metadata": {},
   "outputs": [
    {
     "name": "stdout",
     "output_type": "stream",
     "text": [
      "25 30 "
     ]
    }
   ],
   "source": [
    "for i in mylist:\n",
    "    print(i, end=\" \")"
   ]
  },
  {
   "cell_type": "code",
   "execution_count": null,
   "id": "da45b560-beec-44e5-b186-ddf898b24fa6",
   "metadata": {},
   "outputs": [],
   "source": []
  },
  {
   "cell_type": "code",
   "execution_count": null,
   "id": "a1fb7194-c10c-4bf5-b743-059fb507596e",
   "metadata": {},
   "outputs": [],
   "source": []
  },
  {
   "cell_type": "code",
   "execution_count": null,
   "id": "a5b75964-97d1-4354-af61-4b3d17dbe8d7",
   "metadata": {},
   "outputs": [],
   "source": []
  },
  {
   "cell_type": "code",
   "execution_count": null,
   "id": "d78c8c81-829c-4577-bd4a-c16d2067d41e",
   "metadata": {},
   "outputs": [],
   "source": []
  }
 ],
 "metadata": {
  "kernelspec": {
   "display_name": "Python 3 (ipykernel)",
   "language": "python",
   "name": "python3"
  },
  "language_info": {
   "codemirror_mode": {
    "name": "ipython",
    "version": 3
   },
   "file_extension": ".py",
   "mimetype": "text/x-python",
   "name": "python",
   "nbconvert_exporter": "python",
   "pygments_lexer": "ipython3",
   "version": "3.11.7"
  }
 },
 "nbformat": 4,
 "nbformat_minor": 5
}
