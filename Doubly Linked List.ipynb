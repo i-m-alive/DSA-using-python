{
 "cells": [
  {
   "cell_type": "code",
   "execution_count": 20,
   "id": "7dfcf14d-12cb-491b-9a5b-dd11a43678d2",
   "metadata": {},
   "outputs": [],
   "source": [
    "class Node:\n",
    "    #creation of a node\n",
    "    def __init__(self,prev=None,item=None,next=None):\n",
    "        self.prev=prev\n",
    "        self.item=item\n",
    "        self.next=next"
   ]
  },
  {
   "cell_type": "code",
   "execution_count": 27,
   "id": "d358347b-75a8-4392-804f-0bcd4fcd7d75",
   "metadata": {},
   "outputs": [],
   "source": [
    "class DLL:\n",
    "    def __init__(self,start=None):\n",
    "        self.start=start\n",
    "    def is_empty(self):\n",
    "        return self.start==None\n",
    "    def insert_at_start(self,data):\n",
    "        n=Node(None,data,self.start)\n",
    "        if not self.is_empty():\n",
    "            self.start.prev=n\n",
    "        self.start=n\n",
    "    def insert_at_end(self,data):\n",
    "        temp=self.start\n",
    "        if self.start is not None:\n",
    "            while temp.next is not None:\n",
    "                temp=temp.next\n",
    "        n=Node(temp, data,None)\n",
    "        if self.is_empty():\n",
    "            self.start=n\n",
    "        else:\n",
    "            temp.next=n\n",
    "    def search(self,data):\n",
    "        temp=self.start\n",
    "        while temp.next is not None:\n",
    "            if temp.item==data:\n",
    "                return temp\n",
    "            temp=temp.next\n",
    "        return None\n",
    "    def insert_after(self,temp_data,data):\n",
    "        temp=self.search(temp_data)\n",
    "        if temp is not None:\n",
    "            n= Node(temp,data,temp.next)\n",
    "            if temp.next is not None:\n",
    "                temp.next.prev=n\n",
    "            temp.next=n\n",
    "    def print_list(self):\n",
    "        temp=self.start\n",
    "        while temp is not None:\n",
    "            print(temp.item, end=\" \")\n",
    "            temp=temp.next\n",
    "    def delete_first(self):\n",
    "        if self.start is not None:\n",
    "            self.start=self.start.next\n",
    "            if self.start is not None:\n",
    "                self.start.prev=None\n",
    "        else:\n",
    "            print(\"list is already empty\")\n",
    "    def delete_last(self):\n",
    "        if self.start is None:\n",
    "            print(\"Linklist is already empty\")\n",
    "        elif self.start.next==None:\n",
    "            self.start=None\n",
    "        else:\n",
    "            temp=self.start\n",
    "            while temp.next is not None:\n",
    "                temp=temp.next\n",
    "            temp.next.prev= None\n",
    "            print(\"Item is deleted\")\n",
    "            self.print_list()\n",
    "    def delete_item(self,data):\n",
    "        if self.start is None:\n",
    "            print(\"List is already empty\")\n",
    "        else:\n",
    "            temp=self.search(data) \n",
    "            if temp is not None:\n",
    "                if temp.next is not None:\n",
    "                    temp.next.prev=temp.prev\n",
    "                if temp.prev is not None:\n",
    "                    temp.prev.next=temp.next\n",
    "                else:\n",
    "                    self.start=temp.next\n",
    "    def __iter__(self):\n",
    "        return DLLIterator(self.start)\n",
    "\n"
   ]
  },
  {
   "cell_type": "code",
   "execution_count": 28,
   "id": "15882c8c-b44e-43e6-aab4-83e7f38a556f",
   "metadata": {},
   "outputs": [],
   "source": [
    "class DLLIterator:\n",
    "    def __init__(self,start):\n",
    "        self.current=start\n",
    "    def __iter__(self):\n",
    "        return self\n",
    "    def __next__(self):\n",
    "        if not self.current:\n",
    "            raise StopIteration\n",
    "        data=self.current.item\n",
    "        self.current=self.current.next\n",
    "        return data\n",
    "            "
   ]
  },
  {
   "cell_type": "code",
   "execution_count": 29,
   "id": "476f14c4-60e8-47a7-bde3-615d34b98e70",
   "metadata": {},
   "outputs": [
    {
     "name": "stdout",
     "output_type": "stream",
     "text": [
      "10 15 20 30 "
     ]
    }
   ],
   "source": [
    "a=DLL()\n",
    "a.insert_at_start(20)\n",
    "a.insert_at_start(10)\n",
    "a.insert_at_end(30)\n",
    "a.insert_after(10,15)\n",
    "a.print_list()"
   ]
  },
  {
   "cell_type": "code",
   "execution_count": 30,
   "id": "31d4f9de-5d63-4c05-9b30-948a9fd10838",
   "metadata": {},
   "outputs": [],
   "source": [
    "a.delete_first()"
   ]
  },
  {
   "cell_type": "code",
   "execution_count": 31,
   "id": "8317863f-e240-47e2-a2e9-d794fe51d8ef",
   "metadata": {},
   "outputs": [
    {
     "name": "stdout",
     "output_type": "stream",
     "text": [
      "15 20 30 "
     ]
    }
   ],
   "source": [
    "for x in a:\n",
    "  print(x,end=' ')"
   ]
  },
  {
   "cell_type": "code",
   "execution_count": 32,
   "id": "3402b457-9d8e-48e0-b2ec-63ad419814b4",
   "metadata": {},
   "outputs": [],
   "source": [
    "a.delete_item(20)"
   ]
  },
  {
   "cell_type": "code",
   "execution_count": 33,
   "id": "71a52a3e-961a-4df0-aad5-6ce44157f20d",
   "metadata": {},
   "outputs": [
    {
     "name": "stdout",
     "output_type": "stream",
     "text": [
      "15 30 "
     ]
    }
   ],
   "source": [
    "for x in a:\n",
    "  print(x,end=' ')"
   ]
  },
  {
   "cell_type": "code",
   "execution_count": null,
   "id": "bfccafb3-bf6c-4846-94f9-3e45750eabb7",
   "metadata": {},
   "outputs": [],
   "source": []
  }
 ],
 "metadata": {
  "kernelspec": {
   "display_name": "Python 3 (ipykernel)",
   "language": "python",
   "name": "python3"
  },
  "language_info": {
   "codemirror_mode": {
    "name": "ipython",
    "version": 3
   },
   "file_extension": ".py",
   "mimetype": "text/x-python",
   "name": "python",
   "nbconvert_exporter": "python",
   "pygments_lexer": "ipython3",
   "version": "3.11.7"
  }
 },
 "nbformat": 4,
 "nbformat_minor": 5
}
